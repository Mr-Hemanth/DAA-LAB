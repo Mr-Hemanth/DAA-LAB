{
 "cells": [
  {
   "cell_type": "code",
   "execution_count": null,
   "id": "36773869",
   "metadata": {},
   "outputs": [],
   "source": [
    "# Lab-4"
   ]
  },
  {
   "cell_type": "code",
   "execution_count": 1,
   "id": "e47a8bc9",
   "metadata": {},
   "outputs": [
    {
     "name": "stdout",
     "output_type": "stream",
     "text": [
      "Original Matrix:\n",
      "[1, 2, 3]\n",
      "[4, 5, 6]\n",
      "[7, 8, 9]\n",
      "\n",
      "Matrix after interchanging diagonals:\n",
      "[3, 2, 1]\n",
      "[4, 5, 6]\n",
      "[9, 8, 7]\n"
     ]
    }
   ],
   "source": [
    "#The task is to interchange the values of the left and right diagonals in a square matrix,\n",
    "#achieved by swapping the corner elements of the matrix.\n",
    "\n",
    "\n",
    "def interchange_diagonals(matrix):\n",
    "    size = len(matrix)\n",
    "\n",
    "    for i in range(size):\n",
    "        matrix[i][i], matrix[i][size - 1 - i] = matrix[i][size - 1 - i], matrix[i][i]\n",
    "\n",
    "# Example usage:\n",
    "matrix = [\n",
    "    [1, 2, 3],\n",
    "    [4, 5, 6],\n",
    "    [7, 8, 9]\n",
    "]\n",
    "\n",
    "print(\"Original Matrix:\")\n",
    "for row in matrix:\n",
    "    print(row)\n",
    "\n",
    "interchange_diagonals(matrix)\n",
    "\n",
    "print(\"\\nMatrix after interchanging diagonals:\")\n",
    "for row in matrix:\n",
    "    print(row)\n"
   ]
  },
  {
   "cell_type": "code",
   "execution_count": 2,
   "id": "294052e6",
   "metadata": {},
   "outputs": [
    {
     "name": "stdout",
     "output_type": "stream",
     "text": [
      "The target number 2 is found at indices: [1, 4, 6]\n"
     ]
    }
   ],
   "source": [
    "#Given an array, the task is to display the indices of a specified number in the array. This\n",
    "#involves finding the occurrences of the number and returning their respective indices.\n",
    "\n",
    "def find_indices(arr, target):\n",
    "    indices = []\n",
    "    for i in range(len(arr)):\n",
    "        if arr[i] == target:\n",
    "            indices.append(i)\n",
    "    return indices\n",
    "\n",
    "# Example usage:\n",
    "numbers = [4, 2, 8, 3, 2, 9, 2, 7]\n",
    "target_number = 2\n",
    "\n",
    "result = find_indices(numbers, target_number)\n",
    "if result:\n",
    "    print(f\"The target number {target_number} is found at indices: {result}\")\n",
    "else:\n",
    "    print(f\"The target number {target_number} is not present in the array.\")\n"
   ]
  },
  {
   "cell_type": "code",
   "execution_count": null,
   "id": "534bff24",
   "metadata": {},
   "outputs": [],
   "source": []
  }
 ],
 "metadata": {
  "kernelspec": {
   "display_name": "Python 3 (ipykernel)",
   "language": "python",
   "name": "python3"
  },
  "language_info": {
   "codemirror_mode": {
    "name": "ipython",
    "version": 3
   },
   "file_extension": ".py",
   "mimetype": "text/x-python",
   "name": "python",
   "nbconvert_exporter": "python",
   "pygments_lexer": "ipython3",
   "version": "3.9.12"
  }
 },
 "nbformat": 4,
 "nbformat_minor": 5
}
