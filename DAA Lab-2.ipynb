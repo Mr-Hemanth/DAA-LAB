{
 "cells": [
  {
   "cell_type": "code",
   "execution_count": null,
   "id": "cf60e515",
   "metadata": {},
   "outputs": [],
   "source": [
    "#Lab-2"
   ]
  },
  {
   "cell_type": "code",
   "execution_count": 1,
   "id": "307aa2b8",
   "metadata": {},
   "outputs": [
    {
     "name": "stdout",
     "output_type": "stream",
     "text": [
      "Triplets with sum 17 : [[2, 6, 9], [3, 6, 8]]\n"
     ]
    }
   ],
   "source": [
    "#A triplet is a set of three elements in a sequence or array. Finding triplets involves identifying\n",
    "#combinations of three elements whose sum meets a specified criterion. (Sorting)\n",
    "\n",
    "def find_triplets(arr, target_sum):\n",
    "    arr.sort()  \n",
    "    triplets = []\n",
    "\n",
    "    for i in range(len(arr) - 2):\n",
    "        left = i + 1\n",
    "        right = len(arr) - 1\n",
    "\n",
    "        while left < right:\n",
    "            current_sum = arr[i] + arr[left] + arr[right]\n",
    "\n",
    "            if current_sum == target_sum:\n",
    "                triplets.append([arr[i], arr[left], arr[right]])\n",
    "                left += 1\n",
    "                right -= 1\n",
    "            elif current_sum < target_sum:\n",
    "                left += 1\n",
    "            else:\n",
    "                right -= 1\n",
    "\n",
    "    return triplets\n",
    "\n",
    "# Example usage:\n",
    "arr = [1, 4, 2, 8, 3, 9, 6]\n",
    "target_sum = 17\n",
    "result = find_triplets(arr, target_sum)\n",
    "print(\"Triplets with sum\", target_sum, \":\", result)\n"
   ]
  },
  {
   "cell_type": "code",
   "execution_count": 2,
   "id": "6658fbd4",
   "metadata": {},
   "outputs": [
    {
     "name": "stdout",
     "output_type": "stream",
     "text": [
      "Sorted array: [0, 0, 0, 1, 1, 1, 2, 2, 2]\n"
     ]
    }
   ],
   "source": [
    "#In the given example, the array with values [0, 0, 1, 2, 0, 1, 2, 2, 1] is sorted in a way that\n",
    "#groups identical elements together, resulting in the output [0, 0, 0, 1, 1, 1, 2, 2, 2]. This\n",
    "#sorting method is often used for arrays containing a limited set of distinct values.\n",
    "\n",
    "def counting_sort(arr):\n",
    "    max_value = max(arr)\n",
    "\n",
    "    count = [0] * (max_value + 1)\n",
    "\n",
    "    for num in arr:\n",
    "        count[num] += 1\n",
    "\n",
    "    sorted_arr = []\n",
    "    for i in range(len(count)):\n",
    "        sorted_arr.extend([i] * count[i])\n",
    "\n",
    "    return sorted_arr\n",
    "\n",
    "# Example usage:\n",
    "arr = [0, 0, 1, 2, 0, 1, 2, 2, 1]\n",
    "result = counting_sort(arr)\n",
    "print(\"Sorted array:\", result)\n"
   ]
  },
  {
   "cell_type": "code",
   "execution_count": null,
   "id": "aeb76315",
   "metadata": {},
   "outputs": [],
   "source": []
  }
 ],
 "metadata": {
  "kernelspec": {
   "display_name": "Python 3 (ipykernel)",
   "language": "python",
   "name": "python3"
  },
  "language_info": {
   "codemirror_mode": {
    "name": "ipython",
    "version": 3
   },
   "file_extension": ".py",
   "mimetype": "text/x-python",
   "name": "python",
   "nbconvert_exporter": "python",
   "pygments_lexer": "ipython3",
   "version": "3.9.12"
  }
 },
 "nbformat": 4,
 "nbformat_minor": 5
}
