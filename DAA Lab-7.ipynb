{
 "cells": [
  {
   "cell_type": "code",
   "execution_count": null,
   "id": "f0dc90f5",
   "metadata": {},
   "outputs": [],
   "source": [
    "#LAB-7"
   ]
  },
  {
   "cell_type": "code",
   "execution_count": 1,
   "id": "248ebcf8",
   "metadata": {},
   "outputs": [
    {
     "name": "stdout",
     "output_type": "stream",
     "text": [
      "Node with key 6 found in the BST.\n"
     ]
    }
   ],
   "source": [
    "#Binary Search Tree Node Search\n",
    "class Node:\n",
    "    def __init__(self, key):\n",
    "        self.key = key\n",
    "        self.left = None\n",
    "        self.right = None\n",
    "\n",
    "def search_bst(root, key):\n",
    "    if root is None or root.key == key:\n",
    "        return root\n",
    "\n",
    "    if root.key < key:\n",
    "        return search_bst(root.right, key)\n",
    "\n",
    "    return search_bst(root.left, key)\n",
    "\n",
    "# Example usage:\n",
    "# Creating a simple Binary Search Tree\n",
    "def build_bst():\n",
    "    root = Node(8)\n",
    "    root.left = Node(3)\n",
    "    root.right = Node(10)\n",
    "    root.left.left = Node(1)\n",
    "    root.left.right = Node(6)\n",
    "    root.right.right = Node(14)\n",
    "    root.left.right.left = Node(4)\n",
    "    root.left.right.right = Node(7)\n",
    "    return root\n",
    "\n",
    "def print_search_result(key, result):\n",
    "    if result:\n",
    "        print(f\"Node with key {key} found in the BST.\")\n",
    "    else:\n",
    "        print(f\"Node with key {key} not found in the BST.\")\n",
    "\n",
    "# Example usage:\n",
    "bst_root = build_bst()\n",
    "search_key = 6\n",
    "\n",
    "# Searching for a node with key 6 in the BST\n",
    "result = search_bst(bst_root, search_key)\n",
    "print_search_result(search_key, result)\n"
   ]
  },
  {
   "cell_type": "code",
   "execution_count": 2,
   "id": "7b621afe",
   "metadata": {},
   "outputs": [
    {
     "name": "stdout",
     "output_type": "stream",
     "text": [
      "Sum of leaf nodes: 28\n"
     ]
    }
   ],
   "source": [
    "#Leaf Node Sum in a Tree\n",
    "\n",
    "class TreeNode:\n",
    "    def __init__(self, value):\n",
    "        self.value = value\n",
    "        self.left = None\n",
    "        self.right = None\n",
    "\n",
    "def leaf_node_sum(root):\n",
    "    if root is None:\n",
    "        return 0\n",
    "\n",
    "    if root.left is None and root.right is None:\n",
    "        return root.value\n",
    "\n",
    "    left_sum = leaf_node_sum(root.left)\n",
    "    right_sum = leaf_node_sum(root.right)\n",
    "\n",
    "    return left_sum + right_sum\n",
    "\n",
    "# Example usage:\n",
    "root = TreeNode(10)\n",
    "root.left = TreeNode(5)\n",
    "root.right = TreeNode(15)\n",
    "root.left.left = TreeNode(3)\n",
    "root.left.right = TreeNode(7)\n",
    "root.right.right = TreeNode(18)\n",
    "\n",
    "result = leaf_node_sum(root)\n",
    "print(\"Sum of leaf nodes:\", result)\n"
   ]
  },
  {
   "cell_type": "code",
   "execution_count": null,
   "id": "aca54a2d",
   "metadata": {},
   "outputs": [],
   "source": [
    "#The task involves printing the nodes of a binary tree in a spiral (zigzag) manner, alternating\n",
    "#between left-to-right and right-to-left traversal at each level. This problem explores tree\n",
    "#traversal techniques.\n",
    "\n",
    "class TreeNode:\n",
    "    def __init__(self, value):\n",
    "        self.value = value\n",
    "        self.left = None\n",
    "        self.right = None\n",
    "\n",
    "def print_spiral(root):\n",
    "    if not root:\n",
    "        return\n",
    "\n",
    "    current_level = [root]\n",
    "    next_level = []\n",
    "    left_to_right = True\n",
    "\n",
    "    while current_level:\n",
    "        node = current_level.pop()\n",
    "        print(node.value, end=\" \")\n",
    "\n",
    "        if left_to_right:\n",
    "            if node.left:\n",
    "                next_level.append(node.left)\n",
    "            if node.right:\n",
    "                next_level.append(node.right)\n",
    "        else:\n",
    "            if node.right:\n",
    "                next_level.append(node.right)\n",
    "            if node.left:\n",
    "                next_level.append(node.left)\n",
    "\n",
    "        if not current_level:\n",
    "            current_level, next_level = next_level, current_level\n",
    "            left_to_right = not left_to_right\n",
    "\n",
    "# Example usage:\n",
    "# Constructing a binary tree\n",
    "root = TreeNode(1)\n",
    "root.left = TreeNode(2)\n",
    "root.right = TreeNode(3)\n",
    "root.left.left = TreeNode(4)\n",
    "root.left.right = TreeNode(5)\n",
    "root.right.left = TreeNode(6)\n",
    "root.right.right = TreeNode(7)\n",
    "\n",
    "print(\"Nodes in spiral order:\")\n",
    "print_spiral(root)\n"
   ]
  }
 ],
 "metadata": {
  "kernelspec": {
   "display_name": "Python 3 (ipykernel)",
   "language": "python",
   "name": "python3"
  },
  "language_info": {
   "codemirror_mode": {
    "name": "ipython",
    "version": 3
   },
   "file_extension": ".py",
   "mimetype": "text/x-python",
   "name": "python",
   "nbconvert_exporter": "python",
   "pygments_lexer": "ipython3",
   "version": "3.9.12"
  }
 },
 "nbformat": 4,
 "nbformat_minor": 5
}
