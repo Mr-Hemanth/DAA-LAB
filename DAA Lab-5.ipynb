{
 "cells": [
  {
   "cell_type": "code",
   "execution_count": null,
   "id": "f96b1b82",
   "metadata": {},
   "outputs": [],
   "source": [
    "#LAB-5"
   ]
  },
  {
   "cell_type": "code",
   "execution_count": 1,
   "id": "a72a2166",
   "metadata": {},
   "outputs": [
    {
     "name": "stdout",
     "output_type": "stream",
     "text": [
      "The row with the most number of ones is Row 1.\n"
     ]
    }
   ],
   "source": [
    "#ROWS With Most No of One's\n",
    "\n",
    "\n",
    "def row_with_most_ones(matrix):\n",
    "    max_ones = 0\n",
    "    row_index = -1\n",
    "\n",
    "    for i, row in enumerate(matrix):\n",
    "        count_ones = row.count(1)\n",
    "        if count_ones > max_ones:\n",
    "            max_ones = count_ones\n",
    "            row_index = i\n",
    "\n",
    "    return row_index\n",
    "\n",
    "# Example usage:\n",
    "matrix = [\n",
    "    [0, 1, 1, 0, 1],\n",
    "    [1, 1, 0, 1, 0],\n",
    "    [0, 0, 1, 1, 1],\n",
    "    [1, 0, 0, 1, 0]\n",
    "]\n",
    "\n",
    "result = row_with_most_ones(matrix)\n",
    "\n",
    "if result != -1:\n",
    "    print(f\"The row with the most number of ones is Row {result + 1}.\")\n",
    "else:\n",
    "    print(\"The matrix does not contain any ones.\")\n"
   ]
  },
  {
   "cell_type": "code",
   "execution_count": 2,
   "id": "c7a2bdf9",
   "metadata": {},
   "outputs": [
    {
     "name": "stdout",
     "output_type": "stream",
     "text": [
      "Sum of the middle row: 15\n",
      "Sum of the middle column: 15\n"
     ]
    }
   ],
   "source": [
    "#The task is to calculate the sum of the middle row and middle column in a matrix, involving\n",
    "#finding the central elements and adding up their respective rows and columns. This problem\n",
    "#is relevant in array manipulation and matrix operations.\n",
    "\n",
    "def sum_of_middle_elements(matrix):\n",
    "    rows = len(matrix)\n",
    "    cols = len(matrix[0])\n",
    "\n",
    "    # Check if the matrix has an odd number of rows and columns\n",
    "    if rows % 2 == 1 and cols % 2 == 1:\n",
    "        # Find the indices of the middle row and middle column\n",
    "        middle_row = rows // 2\n",
    "        middle_col = cols // 2\n",
    "\n",
    "        # Calculate the sum of the middle row\n",
    "        sum_middle_row = sum(matrix[middle_row])\n",
    "\n",
    "        # Calculate the sum of the middle column\n",
    "        sum_middle_col = sum(row[middle_col] for row in matrix)\n",
    "\n",
    "        return sum_middle_row, sum_middle_col\n",
    "    else:\n",
    "        return \"Matrix does not have an odd number of rows and columns.\"\n",
    "\n",
    "# Example usage:\n",
    "matrix = [\n",
    "    [1, 2, 3],\n",
    "    [4, 5, 6],\n",
    "    [7, 8, 9]\n",
    "]\n",
    "\n",
    "result = sum_of_middle_elements(matrix)\n",
    "\n",
    "if isinstance(result, tuple):\n",
    "    sum_middle_row, sum_middle_col = result\n",
    "    print(f\"Sum of the middle row: {sum_middle_row}\")\n",
    "    print(f\"Sum of the middle column: {sum_middle_col}\")\n",
    "else:\n",
    "    print(result)\n"
   ]
  },
  {
   "cell_type": "code",
   "execution_count": null,
   "id": "f7ef7919",
   "metadata": {},
   "outputs": [],
   "source": []
  }
 ],
 "metadata": {
  "kernelspec": {
   "display_name": "Python 3 (ipykernel)",
   "language": "python",
   "name": "python3"
  },
  "language_info": {
   "codemirror_mode": {
    "name": "ipython",
    "version": 3
   },
   "file_extension": ".py",
   "mimetype": "text/x-python",
   "name": "python",
   "nbconvert_exporter": "python",
   "pygments_lexer": "ipython3",
   "version": "3.9.12"
  }
 },
 "nbformat": 4,
 "nbformat_minor": 5
}
