{
 "cells": [
  {
   "cell_type": "code",
   "execution_count": null,
   "id": "9ec6ce25",
   "metadata": {},
   "outputs": [],
   "source": [
    "#Lab-1"
   ]
  },
  {
   "cell_type": "code",
   "execution_count": 1,
   "id": "add74914",
   "metadata": {},
   "outputs": [
    {
     "name": "stdout",
     "output_type": "stream",
     "text": [
      "Leaders in the array: [17, 5, 2]\n"
     ]
    }
   ],
   "source": [
    "#A leader in an array is an element greater than or equal to all elements to its right. It is\n",
    "#identified by scanning the array from right to left, updating a maximum variable as leaders\n",
    "#are found.\n",
    "\n",
    "def find_leaders(arr):\n",
    "    n = len(arr)\n",
    "    leaders = []\n",
    "    max_right = float('-inf')\n",
    "\n",
    "    for i in range(n - 1, -1, -1):\n",
    "        if arr[i] >= max_right:\n",
    "            # Found a leader\n",
    "            leaders.append(arr[i])\n",
    "            max_right = arr[i]\n",
    "\n",
    "    leaders.reverse()\n",
    "\n",
    "    return leaders\n",
    "\n",
    "# Example usage:\n",
    "arr = [16, 17, 4, 3, 5, 2]\n",
    "result = find_leaders(arr)\n",
    "print(\"Leaders in the array:\", result)\n"
   ]
  },
  {
   "cell_type": "code",
   "execution_count": 2,
   "id": "d871a1c2",
   "metadata": {},
   "outputs": [
    {
     "name": "stdout",
     "output_type": "stream",
     "text": [
      "Output sequence: [1, 9, 1, 6, 2, 5, 3, 5, 3, 5, 4]\n"
     ]
    }
   ],
   "source": [
    "#Given an array, the task is to sort it and create an output sequence that alternates between\n",
    "#the smallest and largest numbers. For example, for the array [3, 1, 4, 1, 5, 9, 2, 6, 5, 3, 5],\n",
    "#the output would be [1, 9, 1, 6, 2, 5, 3, 5, 4, 5, 3].\n",
    "\n",
    "def alternate_sort(arr):\n",
    "    arr.sort()\n",
    "\n",
    "    start = 0\n",
    "    end = len(arr) - 1\n",
    "\n",
    "    output = []\n",
    "    while start <= end:\n",
    "        output.append(arr[start])\n",
    "        if start != end:\n",
    "            output.append(arr[end])\n",
    "        start += 1\n",
    "        end -= 1\n",
    "\n",
    "    return output\n",
    "\n",
    "# Example usage:\n",
    "input_array = [3, 1, 4, 1, 5, 9, 2, 6, 5, 3, 5]\n",
    "result = alternate_sort(input_array)\n",
    "print(\"Output sequence:\", result)\n"
   ]
  },
  {
   "cell_type": "code",
   "execution_count": null,
   "id": "7bb43b61",
   "metadata": {},
   "outputs": [],
   "source": []
  }
 ],
 "metadata": {
  "kernelspec": {
   "display_name": "Python 3 (ipykernel)",
   "language": "python",
   "name": "python3"
  },
  "language_info": {
   "codemirror_mode": {
    "name": "ipython",
    "version": 3
   },
   "file_extension": ".py",
   "mimetype": "text/x-python",
   "name": "python",
   "nbconvert_exporter": "python",
   "pygments_lexer": "ipython3",
   "version": "3.9.12"
  }
 },
 "nbformat": 4,
 "nbformat_minor": 5
}
