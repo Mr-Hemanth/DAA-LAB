{
 "cells": [
  {
   "cell_type": "code",
   "execution_count": null,
   "id": "d7b24d42",
   "metadata": {},
   "outputs": [],
   "source": [
    "#LAB-6"
   ]
  },
  {
   "cell_type": "code",
   "execution_count": 1,
   "id": "d305366c",
   "metadata": {},
   "outputs": [
    {
     "name": "stdout",
     "output_type": "stream",
     "text": [
      "Original Matrix:\n",
      "[4, 2, 7]\n",
      "[1, 5, 9]\n",
      "[3, 6, 8]\n",
      "\n",
      "Matrix after sorting:\n",
      "[1, 2, 3]\n",
      "[4, 5, 6]\n",
      "[7, 8, 9]\n",
      "\n",
      "Matrix after replacing diagonals with zeros:\n",
      "[0, 2, 0]\n",
      "[4, 0, 6]\n",
      "[0, 8, 0]\n"
     ]
    }
   ],
   "source": [
    "#The task is to sort a matrix without using any Python built-in libraries and subsequently\n",
    "#replace both left and right diagonals with zeros. This problem involves custom sorting\n",
    "#algorithms and matrix manipulation.\n",
    "\n",
    "def selection_sort(arr):\n",
    "    flat_arr = [element for row in arr for element in row]\n",
    "\n",
    "    n = len(flat_arr)\n",
    "    for i in range(n - 1):\n",
    "        min_index = i\n",
    "        for j in range(i + 1, n):\n",
    "            if flat_arr[j] < flat_arr[min_index]:\n",
    "                min_index = j\n",
    "        flat_arr[i], flat_arr[min_index] = flat_arr[min_index], flat_arr[i]\n",
    "\n",
    "    sorted_matrix = [flat_arr[i:i + len(arr[0])] for i in range(0, n, len(arr[0]))]\n",
    "    return sorted_matrix\n",
    "\n",
    "def replace_diagonals_with_zeros(matrix):\n",
    "    rows = len(matrix)\n",
    "    cols = len(matrix[0])\n",
    "\n",
    "    for i in range(rows):\n",
    "        matrix[i][i] = 0\n",
    "\n",
    "    for i in range(rows):\n",
    "        matrix[i][cols - 1 - i] = 0\n",
    "\n",
    "# Example usage:\n",
    "matrix = [\n",
    "    [4, 2, 7],\n",
    "    [1, 5, 9],\n",
    "    [3, 6, 8]\n",
    "]\n",
    "\n",
    "print(\"Original Matrix:\")\n",
    "for row in matrix:\n",
    "    print(row)\n",
    "\n",
    "sorted_matrix = selection_sort(matrix)\n",
    "print(\"\\nMatrix after sorting:\")\n",
    "for row in sorted_matrix:\n",
    "    print(row)\n",
    "\n",
    "replace_diagonals_with_zeros(sorted_matrix)\n",
    "print(\"\\nMatrix after replacing diagonals with zeros:\")\n",
    "for row in sorted_matrix:\n",
    "    print(row)\n"
   ]
  },
  {
   "cell_type": "code",
   "execution_count": 2,
   "id": "0e86fd97",
   "metadata": {},
   "outputs": [
    {
     "name": "stdout",
     "output_type": "stream",
     "text": [
      "7 * 8 = 56\n"
     ]
    }
   ],
   "source": [
    "#Integer Multiplication without Operators\n",
    "\n",
    "\n",
    "def multiply(x, y):\n",
    "    result = 0\n",
    "\n",
    "    sign = 1\n",
    "    if x < 0:\n",
    "        x = -x\n",
    "        sign = -sign\n",
    "    if y < 0:\n",
    "        y = -y\n",
    "        sign = -sign\n",
    "\n",
    "    while y > 0:\n",
    "        if y % 2 == 1:\n",
    "            result += x\n",
    "\n",
    "        x <<= 1  \n",
    "        y >>= 1  \n",
    "    return result * sign\n",
    "\n",
    "# Example usage:\n",
    "num1 = 7\n",
    "num2 = 8\n",
    "\n",
    "result = multiply(num1, num2)\n",
    "print(f\"{num1} * {num2} = {result}\")\n"
   ]
  },
  {
   "cell_type": "code",
   "execution_count": null,
   "id": "34b5751d",
   "metadata": {},
   "outputs": [],
   "source": []
  }
 ],
 "metadata": {
  "kernelspec": {
   "display_name": "Python 3 (ipykernel)",
   "language": "python",
   "name": "python3"
  },
  "language_info": {
   "codemirror_mode": {
    "name": "ipython",
    "version": 3
   },
   "file_extension": ".py",
   "mimetype": "text/x-python",
   "name": "python",
   "nbconvert_exporter": "python",
   "pygments_lexer": "ipython3",
   "version": "3.9.12"
  }
 },
 "nbformat": 4,
 "nbformat_minor": 5
}
